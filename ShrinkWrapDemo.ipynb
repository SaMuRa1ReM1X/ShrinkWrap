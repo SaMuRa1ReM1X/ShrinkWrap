{
 "cells": [
  {
   "cell_type": "code",
   "execution_count": 4,
   "metadata": {},
   "outputs": [],
   "source": [
    "import sys"
   ]
  },
  {
   "cell_type": "code",
   "execution_count": 5,
   "metadata": {
    "scrolled": true
   },
   "outputs": [],
   "source": [
    "#!{sys.executable} -m pip install psycopg2"
   ]
  },
  {
   "cell_type": "code",
   "execution_count": 6,
   "metadata": {},
   "outputs": [],
   "source": [
    "#!{sys.executable} -m pip install boto3"
   ]
  },
  {
   "cell_type": "code",
   "execution_count": 7,
   "metadata": {},
   "outputs": [],
   "source": [
    "import psycopg2"
   ]
  },
  {
   "cell_type": "code",
   "execution_count": 8,
   "metadata": {},
   "outputs": [],
   "source": [
    "import pandas as pd"
   ]
  },
  {
   "cell_type": "code",
   "execution_count": 24,
   "metadata": {},
   "outputs": [],
   "source": [
    "import boto3"
   ]
  },
  {
   "cell_type": "code",
   "execution_count": 9,
   "metadata": {},
   "outputs": [
    {
     "ename": "NameError",
     "evalue": "name 'items' is not defined",
     "output_type": "error",
     "traceback": [
      "\u001b[1;31m---------------------------------------------------------------------------\u001b[0m",
      "\u001b[1;31mNameError\u001b[0m                                 Traceback (most recent call last)",
      "\u001b[1;32m<ipython-input-9-9e78b983af2d>\u001b[0m in \u001b[0;36m<module>\u001b[1;34m\u001b[0m\n\u001b[0;32m      2\u001b[0m             \u001b[1;32mfrom\u001b[0m \u001b[0mecomm_analytics\u001b[0m\u001b[1;33m.\u001b[0m\u001b[0mkeen_us_user_profiles\u001b[0m\u001b[1;33m\u001b[0m\u001b[1;33m\u001b[0m\u001b[0m\n\u001b[0;32m      3\u001b[0m             \u001b[0mwhere\u001b[0m \u001b[0mfirst_order\u001b[0m \u001b[1;33m>=\u001b[0m \u001b[1;34m'10/1/19'\u001b[0m\u001b[1;33m\u001b[0m\u001b[1;33m\u001b[0m\u001b[0m\n\u001b[1;32m----> 4\u001b[1;33m             and email in %s;''' %(items,)\n\u001b[0m",
      "\u001b[1;31mNameError\u001b[0m: name 'items' is not defined"
     ]
    }
   ],
   "source": [
    "'''Select email, first_order\n",
    "            from ecomm_analytics.keen_us_user_profiles\n",
    "            where first_order >= '10/1/19'\n",
    "            and email in %s;''' %(items,)"
   ]
  },
  {
   "cell_type": "code",
   "execution_count": 10,
   "metadata": {},
   "outputs": [
    {
     "ename": "NameError",
     "evalue": "name 'query' is not defined",
     "output_type": "error",
     "traceback": [
      "\u001b[1;31m---------------------------------------------------------------------------\u001b[0m",
      "\u001b[1;31mNameError\u001b[0m                                 Traceback (most recent call last)",
      "\u001b[1;32m<ipython-input-10-4a34b4434bee>\u001b[0m in \u001b[0;36m<module>\u001b[1;34m\u001b[0m\n\u001b[0;32m      7\u001b[0m \u001b[0mcursor\u001b[0m \u001b[1;33m=\u001b[0m \u001b[0mconn\u001b[0m\u001b[1;33m.\u001b[0m\u001b[0mcursor\u001b[0m\u001b[1;33m(\u001b[0m\u001b[1;33m)\u001b[0m\u001b[1;33m\u001b[0m\u001b[1;33m\u001b[0m\u001b[0m\n\u001b[0;32m      8\u001b[0m \u001b[1;33m\u001b[0m\u001b[0m\n\u001b[1;32m----> 9\u001b[1;33m \u001b[0mcursor\u001b[0m\u001b[1;33m.\u001b[0m\u001b[0mexecute\u001b[0m\u001b[1;33m(\u001b[0m\u001b[0mquery\u001b[0m\u001b[1;33m)\u001b[0m\u001b[1;33m\u001b[0m\u001b[1;33m\u001b[0m\u001b[0m\n\u001b[0m\u001b[0;32m     10\u001b[0m \u001b[0mresults\u001b[0m \u001b[1;33m=\u001b[0m \u001b[0mpd\u001b[0m\u001b[1;33m.\u001b[0m\u001b[0mDataFrame\u001b[0m\u001b[1;33m(\u001b[0m\u001b[0mcursor\u001b[0m\u001b[1;33m.\u001b[0m\u001b[0mfetchall\u001b[0m\u001b[1;33m(\u001b[0m\u001b[1;33m)\u001b[0m\u001b[1;33m)\u001b[0m\u001b[1;33m\u001b[0m\u001b[1;33m\u001b[0m\u001b[0m\n\u001b[0;32m     11\u001b[0m \u001b[1;31m#results.columns = #[\"Order\", \"Reason\"]#[\"Email\", \"Orders\", \"Revenue\"]\u001b[0m\u001b[1;33m\u001b[0m\u001b[1;33m\u001b[0m\u001b[1;33m\u001b[0m\u001b[0m\n",
      "\u001b[1;31mNameError\u001b[0m: name 'query' is not defined"
     ]
    }
   ],
   "source": [
    "conn = psycopg2.connect(user = 'awsuser',\n",
    "                              password = 'awsPDXhackathon1',\n",
    "                              host = 'aws-pdx-hackathon.c8vcduzakdyw.us-west-2.redshift.amazonaws.com',\n",
    "                              dbname = 'dev',\n",
    "                              port = 5439)\n",
    "\n",
    "cursor = conn.cursor()\n",
    "\n",
    "cursor.execute(query)\n",
    "results = pd.DataFrame(cursor.fetchall())\n",
    "#results.columns = #[\"Order\", \"Reason\"]#[\"Email\", \"Orders\", \"Revenue\"]\n",
    "\n",
    "cursor.close()\n",
    "conn.close()"
   ]
  },
  {
   "cell_type": "code",
   "execution_count": 11,
   "metadata": {},
   "outputs": [
    {
     "name": "stdout",
     "output_type": "stream",
     "text": [
      "Register a callback to execute when the button is clicked.\n",
      "\n",
      "        The callback will be called with one argument, the clicked button\n",
      "        widget instance.\n",
      "\n",
      "        Parameters\n",
      "        ----------\n",
      "        remove: bool (optional)\n",
      "            Set to true to remove the callback from the list of callbacks.\n",
      "        \n"
     ]
    }
   ],
   "source": [
    "import ipywidgets as widgets\n",
    "print(widgets.Button.on_click.__doc__)"
   ]
  },
  {
   "cell_type": "code",
   "execution_count": 12,
   "metadata": {},
   "outputs": [],
   "source": [
    "from IPython.display import display"
   ]
  },
  {
   "cell_type": "code",
   "execution_count": 13,
   "metadata": {},
   "outputs": [],
   "source": [
    "\n",
    "button = widgets.Button(description=\"Get Data!\")\n",
    "output = widgets.Output()\n",
    "\n",
    "def on_button_clicked(b):\n",
    "    output.clear_output()\n",
    "    with output:\n",
    "        query= '''Select * from usage_tracker;''' \n",
    "        \n",
    "        conn = psycopg2.connect(user = 'awsuser',\n",
    "                              password = 'awsPDXhackathon1',\n",
    "                              host = 'aws-pdx-hackathon.c8vcduzakdyw.us-west-2.redshift.amazonaws.com',\n",
    "                              dbname = 'dev',\n",
    "                              port = 5439)\n",
    "\n",
    "        cursor = conn.cursor()\n",
    "\n",
    "        cursor.execute(query)\n",
    "        results = pd.DataFrame(cursor.fetchall())\n",
    "        #results.columns = #[\"Order\", \"Reason\"]#[\"Email\", \"Orders\", \"Revenue\"]\n",
    "\n",
    "        cursor.close()\n",
    "        conn.close()\n",
    "        print (results)\n",
    "\n",
    "button.on_click(on_button_clicked)"
   ]
  },
  {
   "cell_type": "code",
   "execution_count": 14,
   "metadata": {},
   "outputs": [],
   "source": [
    "button2 = widgets.Button(description=\"Press Me\")\n",
    "output2 = widgets.Output()\n",
    "\n",
    "def on_button2_clicked(b):\n",
    "    output2.clear_output()\n",
    "    print (\"Button 2\")\n",
    "\n",
    "button2.on_click(on_button2_clicked)"
   ]
  },
  {
   "cell_type": "code",
   "execution_count": 15,
   "metadata": {},
   "outputs": [
    {
     "data": {
      "application/vnd.jupyter.widget-view+json": {
       "model_id": "5da8d5456e6d42f093de03bbd3cba072",
       "version_major": 2,
       "version_minor": 0
      },
      "text/plain": [
       "Button(description='Get Data!', style=ButtonStyle())"
      ]
     },
     "metadata": {},
     "output_type": "display_data"
    },
    {
     "data": {
      "application/vnd.jupyter.widget-view+json": {
       "model_id": "6ce03a98d64c42799b3c8ae4ea7fcceb",
       "version_major": 2,
       "version_minor": 0
      },
      "text/plain": [
       "Output()"
      ]
     },
     "metadata": {},
     "output_type": "display_data"
    },
    {
     "data": {
      "application/vnd.jupyter.widget-view+json": {
       "model_id": "d8da6cba7e444d1fb6c87aefdfdab57e",
       "version_major": 2,
       "version_minor": 0
      },
      "text/plain": [
       "Button(description='Press Me', style=ButtonStyle())"
      ]
     },
     "metadata": {},
     "output_type": "display_data"
    },
    {
     "data": {
      "application/vnd.jupyter.widget-view+json": {
       "model_id": "4b7f88d5c5f14196bab2faa6b0109a0c",
       "version_major": 2,
       "version_minor": 0
      },
      "text/plain": [
       "Output()"
      ]
     },
     "metadata": {},
     "output_type": "display_data"
    }
   ],
   "source": [
    "display(button, output)\n",
    "display(button2, output2)"
   ]
  },
  {
   "cell_type": "code",
   "execution_count": 118,
   "metadata": {},
   "outputs": [],
   "source": [
    "import psycopg2\n",
    "import json\n",
    "import logging\n",
    "import boto3\n",
    "\n",
    "logger = logging.getLogger()\n",
    "logger.setLevel(logging.INFO)\n",
    "\n",
    "iam1 = boto3.client('iam')\n",
    "\n",
    "\n",
    "def get_iam_usage():\n",
    "    \n",
    "    user_list = get_user_dao()\n",
    "    #print(user_list)\n",
    "\n",
    "    for user_name in user_list:   \n",
    "        #print(user_name[0])\n",
    "        response_1 = iam1.generate_service_last_accessed_details(\n",
    "            Arn='arn:aws:iam::132865025212:user/'+user_name[0]\n",
    "        )\n",
    "        \n",
    "        #print(response_1)\n",
    "        response_dict = json.loads(json.dumps(response_1))\n",
    "        \n",
    "        response_2 = iam1.get_service_last_accessed_details(\n",
    "            JobId=response_dict['JobId']\n",
    "        )\n",
    "\n",
    "        response_2_dict = json.loads(json.dumps(response_2, default=str))\n",
    "        \n",
    "        if response_2_dict['ServicesLastAccessed']:\n",
    "            svcs_last_accessed_list = response_2_dict['ServicesLastAccessed']\n",
    "            #print(svcs_last_accessed_list)\n",
    "            for svcs_last_accessed in svcs_last_accessed_list:\n",
    "                if svcs_last_accessed['TotalAuthenticatedEntities'] > 0:\n",
    "                    update_last_accessed_dao(user_name,svcs_last_accessed['ServiceNamespace'],svcs_last_accessed['LastAuthenticated'])\n",
    "\n",
    "    return \"Successfully updated last accessed dates!!\"\n",
    "\n",
    "\n",
    "def update_last_accessed_dao(user_name, service, last_accessed):\n",
    "    conn = None\n",
    "    cur = None\n",
    "    conn_string = ('dbname=dev user=awsuser password=awsPDXhackathon1 host=aws-pdx-hackathon.c8vcduzakdyw.us-west-2.redshift.amazonaws.com port=5439')\n",
    "    conn = psycopg2.connect(conn_string)\n",
    "    cur = conn.cursor()\n",
    "    cur.execute('update usage_tracker set last_use_date = %s where user_name = %s and service = %s',(last_accessed,user_name,service,))\n",
    "    conn.commit()\n",
    "    if cur is not None:\n",
    "        cur.close()\n",
    "    if conn is not None:\n",
    "        conn.close()\n",
    "\n",
    "\n",
    "def get_user_dao():\n",
    "    conn = None\n",
    "    cur = None\n",
    "    conn_string = ('dbname=dev user=awsuser password=awsPDXhackathon1 host=aws-pdx-hackathon.c8vcduzakdyw.us-west-2.redshift.amazonaws.com port=5439')\n",
    "    conn = psycopg2.connect(conn_string)\n",
    "    cur = conn.cursor()\n",
    "    cur.execute('select distinct user_name from usage_tracker')    \n",
    "    response = cur.fetchall()\n",
    "    if cur is not None:\n",
    "        cur.close()\n",
    "    if conn is not None:\n",
    "        conn.close()\n",
    "    return response\n",
    "\n",
    "\n"
   ]
  },
  {
   "cell_type": "code",
   "execution_count": 119,
   "metadata": {},
   "outputs": [],
   "source": [
    "def get_report():\n",
    "    conn = psycopg2.connect(user = 'awsuser',\n",
    "                              password = 'awsPDXhackathon1',\n",
    "                              host = 'aws-pdx-hackathon.c8vcduzakdyw.us-west-2.redshift.amazonaws.com',\n",
    "                              dbname = 'dev',\n",
    "                              port = 5439)\n",
    "    query= '''Select * from usage_tracker order by user_name, service;''' \n",
    "    cursor = conn.cursor()\n",
    "    cursor.execute(query)\n",
    "    results = pd.DataFrame(cursor.fetchall())\n",
    "    results.columns = [\"User\", \"Service\",\"Status\",\"Last Accessed\"]    \n",
    "    cursor.close()\n",
    "    conn.close()    \n",
    "    return results\n",
    "\n",
    "def shrinkwrap_users():\n",
    "    iam2 = boto3.resource('iam')    \n",
    "    conn = psycopg2.connect(user='awsuser',\n",
    "                            password='awsPDXhackathon1',\n",
    "                            host='aws-pdx-hackathon.c8vcduzakdyw.us-west-2.redshift.amazonaws.com',\n",
    "                            dbname='dev',\n",
    "                            port=5439)    \n",
    "    get_everything = \"SELECT user_name, service FROM usage_tracker WHERE last_use_date < getdate()-30 AND status='Granted';\"    \n",
    "    cursor = conn.cursor()    \n",
    "    cursor.execute(get_everything)\n",
    "    results = cursor.fetchall()    \n",
    "    for expired_permission in results:\n",
    "        user = iam2.User(expired_permission[0])        \n",
    "        response = user.detach_policy(PolicyArn=service_policies[expired_permission[1]])\n",
    "        update_status_query = '''UPDATE usage_tracker SET status='Declined' WHERE user_name='%s' AND service='%s';''' % (expired_permission[0], expired_permission[1])\n",
    "        cursor.execute(update_status_query)\n",
    "        conn.commit()    \n",
    "    cursor.close()\n",
    "    conn.close()    \n",
    "    return results"
   ]
  },
  {
   "cell_type": "code",
   "execution_count": 120,
   "metadata": {},
   "outputs": [],
   "source": [
    "button3 = widgets.Button(description=\"Create User\")\n",
    "rep_button=widgets.Button(description=\"Get Report\")\n",
    "sw_button=widgets.Button(description=\"Shrink Wrap\")\n",
    "lamb_button = widgets.Button(description=\"Sync Records\")\n",
    "text3 = widgets.Text(value='Enter User Name', description='User', disabled=False)\n",
    "check1 = widgets.Checkbox(value=False, description='S3 service')\n",
    "check2 = widgets.Checkbox(value=False, description='Redshift service')\n",
    "check3=widgets.Checkbox(value=False, description='Lambda service')\n",
    "output2 = widgets.Output()\n",
    "rep_output =  widgets.Output()\n",
    "sw_output = widgets.Output()\n",
    "lamb_output = widgets.Output()\n",
    "iam = boto3.resource('iam')\n",
    "client = boto3.client('iam')\n",
    "\n",
    "# def on_text_change(change):\n",
    "#     output2.clear_output()\n",
    "#     with output2:\n",
    "#         print(change['new'])\n",
    "\n",
    "# text3.on_submit(on_text_change)\n",
    "\n",
    "\n",
    "def on_button3_clicked(b):\n",
    "    output2.clear_output()\n",
    "    with output2:\n",
    "        print(text3.value)\n",
    "        client.create_user(UserName=text3.value)\n",
    "        user = iam.User(text3.value)\n",
    "        \n",
    "        conn = psycopg2.connect(user='awsuser',\n",
    "                            password='awsPDXhackathon1',\n",
    "                            host='aws-pdx-hackathon.c8vcduzakdyw.us-west-2.redshift.amazonaws.com',\n",
    "                            dbname='dev',\n",
    "                            port=5439)   \n",
    "        cursor = conn.cursor()   \n",
    "        \n",
    "        if check1.value:\n",
    "#           user = iam.User(text3.value)\n",
    "            response = user.attach_policy(PolicyArn='arn:aws:iam::aws:policy/AmazonS3FullAccess')\n",
    "            insert_new_user = '''insert into usage_tracker values ('%s','%s','%s',getdate());''' % (text3.value, 's3' , 'Granted')    \n",
    "            cursor.execute(insert_new_user)\n",
    "            conn.commit()\n",
    "            print(text3.value+' user has S3 service granted')\n",
    "        else:\n",
    "            insert_new_user = '''insert into usage_tracker values ('%s','%s','%s',getdate());''' % (text3.value, 's3' , 'Declined')    \n",
    "            cursor.execute(insert_new_user)\n",
    "            conn.commit()\n",
    "            print(text3.value+' user has S3 service declined')\n",
    "        if check2.value:\n",
    "#             user = iam.User(text3.value)\n",
    "            response = user.attach_policy(PolicyArn='arn:aws:iam::aws:policy/AmazonRedshiftFullAccess')\n",
    "            insert_new_user = '''insert into usage_tracker values ('%s','%s','%s',getdate());''' % (text3.value, 'redshift' , 'Granted')    \n",
    "            cursor.execute(insert_new_user)\n",
    "            conn.commit() \n",
    "            print(text3.value+' user has Redshift service granted')\n",
    "        else:\n",
    "            insert_new_user = '''insert into usage_tracker values ('%s','%s','%s',getdate());''' % (text3.value, 'redshift' , 'Declined')    \n",
    "            cursor.execute(insert_new_user)\n",
    "            conn.commit()\n",
    "            print(text3.value+' user has Redshift service declined')\n",
    "        if check3.value:\n",
    "#             user = iam.User(text3.value)\n",
    "            response = user.attach_policy(PolicyArn='arn:aws:iam::aws:policy/AWSLambdaFullAccess')\n",
    "            insert_new_user = '''insert into usage_tracker values ('%s','%s','%s',getdate());''' % (text3.value, 'lambda' , 'Granted')    \n",
    "            cursor.execute(insert_new_user)\n",
    "            conn.commit() \n",
    "            print(text3.value+' user has Lambda service granted')\n",
    "        else:\n",
    "            insert_new_user = '''insert into usage_tracker values ('%s','%s','%s',getdate());''' % (text3.value, 'lambda' , 'Declined')    \n",
    "            cursor.execute(insert_new_user)\n",
    "            conn.commit()\n",
    "            print(text3.value+' user has Lambda service declined')\n",
    "        \n",
    "        cursor.close()\n",
    "        conn.close()\n",
    "\n",
    "        \n",
    "def on_rep_button_clicked(b):\n",
    "    rep_output.clear_output()\n",
    "    with rep_output:\n",
    "        print('Getting report...')\n",
    "        print(get_report())\n",
    "\n",
    "def on_sw_button_clicked(b):\n",
    "    sw_output.clear_output()\n",
    "    with sw_output:\n",
    "        print('Shrink Wrapping...')\n",
    "        print(shrinkwrap_users())\n",
    "        \n",
    "def on_lamb_button_clicked(b):\n",
    "    lamb_output.clear_output()\n",
    "    with lamb_output:\n",
    "        print('Syncing records on demand...')\n",
    "        get_iam_usage()\n",
    "        print('Done!')\n",
    "        \n",
    "        \n",
    "\n",
    "# service_policies = {'redshift': 'arn:aws:iam::aws:policy/AmazonRedshiftFullAccess',\n",
    "#                     's3': 'arn:aws:iam::aws:policy/AmazonS3FullAccess',\n",
    "#                     'lambda': 'arn:aws:iam::aws:policy/AWSLambdaFullAccess'}        \n",
    "\n",
    "def changed(b):\n",
    "    output2.clear_output()\n",
    "    with output2:\n",
    "        print(check1.value)\n",
    "#         user = iam.User(text3.value)\n",
    "#         response = user.attach_policy(PolicyArn='arn:aws:iam::aws:policy/AmazonS3FullAccess')\n",
    "#         print(text3.value+' user has S3 service granted')\n",
    "def changed1(b):\n",
    "    output2.clear_output()\n",
    "    with output2:\n",
    "        user = iam.User(text3.value)\n",
    "        response = user.attach_policy(PolicyArn='arn:aws:iam::aws:policy/AmazonRedshiftFullAccess')\n",
    "        print(text3.value+' user has Redshift service granted')\n",
    "def changed2(b):\n",
    "    output2.clear_output()\n",
    "    with output2:\n",
    "        user = iam.User(text3.value)\n",
    "        response = user.attach_policy(PolicyArn='arn:aws:iam::aws:policy/AWSLambdaFullAccess')\n",
    "        print(text3.value+' user has Lambda service granted')\n",
    "button3.on_click(on_button3_clicked)\n",
    "rep_button.on_click(on_rep_button_clicked)\n",
    "sw_button.on_click(on_sw_button_clicked)\n",
    "lamb_button.on_click(on_lamb_button_clicked)\n",
    "# check1.observe(changed)\n",
    "# check2.observe(changed1)\n",
    "# check3.observe(changed2)\n",
    "\n",
    "    \n",
    "\n"
   ]
  },
  {
   "cell_type": "code",
   "execution_count": 121,
   "metadata": {},
   "outputs": [
    {
     "data": {
      "application/vnd.jupyter.widget-view+json": {
       "model_id": "ec611a231f69408fb7ed14f31b67d9d8",
       "version_major": 2,
       "version_minor": 0
      },
      "text/plain": [
       "Button(description='Create User', style=ButtonStyle())"
      ]
     },
     "metadata": {},
     "output_type": "display_data"
    },
    {
     "data": {
      "application/vnd.jupyter.widget-view+json": {
       "model_id": "c0e9a9b21c4242d380e2edc94929c7fb",
       "version_major": 2,
       "version_minor": 0
      },
      "text/plain": [
       "Text(value='Enter User Name', description='User')"
      ]
     },
     "metadata": {},
     "output_type": "display_data"
    },
    {
     "data": {
      "application/vnd.jupyter.widget-view+json": {
       "model_id": "20facf5fffab4614aee59ccaa7077f9c",
       "version_major": 2,
       "version_minor": 0
      },
      "text/plain": [
       "Checkbox(value=False, description='S3 service')"
      ]
     },
     "metadata": {},
     "output_type": "display_data"
    },
    {
     "data": {
      "application/vnd.jupyter.widget-view+json": {
       "model_id": "3384aca270c2491e897fed8321a14c72",
       "version_major": 2,
       "version_minor": 0
      },
      "text/plain": [
       "Checkbox(value=False, description='Redshift service')"
      ]
     },
     "metadata": {},
     "output_type": "display_data"
    },
    {
     "data": {
      "application/vnd.jupyter.widget-view+json": {
       "model_id": "e29afb6e5cbe485aab99fcdaee1aac62",
       "version_major": 2,
       "version_minor": 0
      },
      "text/plain": [
       "Checkbox(value=False, description='Lambda service')"
      ]
     },
     "metadata": {},
     "output_type": "display_data"
    },
    {
     "data": {
      "application/vnd.jupyter.widget-view+json": {
       "model_id": "44b9a194c90b4f34bf1e157dfe9a8fdd",
       "version_major": 2,
       "version_minor": 0
      },
      "text/plain": [
       "Output()"
      ]
     },
     "metadata": {},
     "output_type": "display_data"
    },
    {
     "data": {
      "application/vnd.jupyter.widget-view+json": {
       "model_id": "d4364a6a2bb445de9c1576502590ab8b",
       "version_major": 2,
       "version_minor": 0
      },
      "text/plain": [
       "Button(description='Get Report', style=ButtonStyle())"
      ]
     },
     "metadata": {},
     "output_type": "display_data"
    },
    {
     "data": {
      "application/vnd.jupyter.widget-view+json": {
       "model_id": "3c159b6f38a24acc88793274456bb64a",
       "version_major": 2,
       "version_minor": 0
      },
      "text/plain": [
       "Output()"
      ]
     },
     "metadata": {},
     "output_type": "display_data"
    },
    {
     "data": {
      "application/vnd.jupyter.widget-view+json": {
       "model_id": "a4d33c3a62ff4e39960d972fa3bc0ddb",
       "version_major": 2,
       "version_minor": 0
      },
      "text/plain": [
       "Button(description='Shrink Wrap', style=ButtonStyle())"
      ]
     },
     "metadata": {},
     "output_type": "display_data"
    },
    {
     "data": {
      "application/vnd.jupyter.widget-view+json": {
       "model_id": "4e9c737e7a8c4c6285ce89ae1d3453a3",
       "version_major": 2,
       "version_minor": 0
      },
      "text/plain": [
       "Output()"
      ]
     },
     "metadata": {},
     "output_type": "display_data"
    },
    {
     "data": {
      "application/vnd.jupyter.widget-view+json": {
       "model_id": "13e1767eaf7c48dd88854180d29b4a63",
       "version_major": 2,
       "version_minor": 0
      },
      "text/plain": [
       "Button(description='Sync Records', style=ButtonStyle())"
      ]
     },
     "metadata": {},
     "output_type": "display_data"
    },
    {
     "data": {
      "application/vnd.jupyter.widget-view+json": {
       "model_id": "17309c6f002741a5a32d245866a6a9ac",
       "version_major": 2,
       "version_minor": 0
      },
      "text/plain": [
       "Output()"
      ]
     },
     "metadata": {},
     "output_type": "display_data"
    }
   ],
   "source": [
    "display(button3, text3, check1, check2, check3, output2, rep_button, rep_output, sw_button, sw_output, lamb_button, lamb_output)\n"
   ]
  }
 ],
 "metadata": {
  "kernelspec": {
   "display_name": "Python 3",
   "language": "python",
   "name": "python3"
  },
  "language_info": {
   "codemirror_mode": {
    "name": "ipython",
    "version": 3
   },
   "file_extension": ".py",
   "mimetype": "text/x-python",
   "name": "python",
   "nbconvert_exporter": "python",
   "pygments_lexer": "ipython3",
   "version": "3.7.4"
  }
 },
 "nbformat": 4,
 "nbformat_minor": 2
}
